{
 "cells": [
  {
   "cell_type": "markdown",
   "id": "a6789afd-8a18-441f-9f8a-f6fd13be8f49",
   "metadata": {},
   "source": [
    "1. Write a Python program to reverse a string without using any built-in string reversal functions."
   ]
  },
  {
   "cell_type": "code",
   "execution_count": 1,
   "id": "1938492f-b9c9-42f6-a3fd-f736c457b17c",
   "metadata": {},
   "outputs": [
    {
     "name": "stdin",
     "output_type": "stream",
     "text": [
      " amnsfj\n"
     ]
    },
    {
     "name": "stdout",
     "output_type": "stream",
     "text": [
      "jfsnma\n"
     ]
    }
   ],
   "source": [
    "def rev(s):\n",
    "    str = s[::-1]\n",
    "    return str\n",
    "s = input()\n",
    "print(rev(s))"
   ]
  },
  {
   "cell_type": "markdown",
   "id": "c2628a5f-9475-47d3-af28-5b65c1cf0d5f",
   "metadata": {},
   "source": [
    "2. Implement a function to check if a given string is a palindrome."
   ]
  },
  {
   "cell_type": "code",
   "execution_count": 7,
   "id": "cf44ed78-0d18-4290-a358-fe7b6d3c7a76",
   "metadata": {},
   "outputs": [
    {
     "name": "stdin",
     "output_type": "stream",
     "text": [
      " naman\n"
     ]
    },
    {
     "name": "stdout",
     "output_type": "stream",
     "text": [
      "It is a palindrome\n"
     ]
    }
   ],
   "source": [
    "def palindrome(n):\n",
    "    s = n[::-1]\n",
    "    if(n==s):\n",
    "        return True\n",
    "    return False\n",
    "s=input()\n",
    "if(palindrome(s)):\n",
    "    print(\"It is a palindrome\")\n",
    "else:\n",
    "    print(\"Not a Palindrome\")"
   ]
  },
  {
   "cell_type": "markdown",
   "id": "43861b3f-31e8-4a99-8197-efc4c92a56a5",
   "metadata": {},
   "source": [
    "3. Write a program to find the largest element in a given list."
   ]
  },
  {
   "cell_type": "code",
   "execution_count": 6,
   "id": "58b5d92e-5e56-4ae3-9b32-b7a78cc9041f",
   "metadata": {},
   "outputs": [
    {
     "name": "stdin",
     "output_type": "stream",
     "text": [
      " 7\n",
      " 65\n",
      " 35\n",
      " 86\n",
      " 25\n",
      " 75\n",
      " 46\n",
      " 85\n"
     ]
    },
    {
     "name": "stdout",
     "output_type": "stream",
     "text": [
      "86\n"
     ]
    }
   ],
   "source": [
    "import numpy as np\n",
    "def largest(list):\n",
    "    mx=-np.inf\n",
    "    for i in list:\n",
    "        mx=max(i,mx)\n",
    "    return mx\n",
    "n=int(input())\n",
    "list=[]\n",
    "for i in range(0,n):\n",
    "    k=int(input())\n",
    "    list.append(k)\n",
    "print(largest(list))"
   ]
  },
  {
   "cell_type": "markdown",
   "id": "b40af8d6-9c16-4351-a0d6-0d6eced7f16c",
   "metadata": {},
   "source": [
    "4. Implement a function to count the occurrence of each element in a list."
   ]
  },
  {
   "cell_type": "code",
   "execution_count": 8,
   "id": "154f07da-79c9-49dc-9f22-60e12a6dfe31",
   "metadata": {},
   "outputs": [
    {
     "name": "stdin",
     "output_type": "stream",
     "text": [
      " 9\n",
      " 7\n",
      " 6\n",
      " 4\n",
      " 7\n",
      " 3\n",
      " 7\n",
      " 6\n",
      " 9\n",
      " 2\n"
     ]
    },
    {
     "name": "stdout",
     "output_type": "stream",
     "text": [
      "Element Count\n",
      "7    3\n",
      "6    2\n",
      "4    1\n",
      "3    1\n",
      "9    1\n",
      "2    1\n",
      "dtype: int64\n"
     ]
    }
   ],
   "source": [
    "import pandas as pd\n",
    "def count(list):\n",
    "    count = pd.Series(list).value_counts()\n",
    "    print(\"Element Count\")\n",
    "    print(count)\n",
    "\n",
    "n=int(input())\n",
    "list=[]\n",
    "for i in range(0,n):\n",
    "    l=int(input())\n",
    "    list.append(l)\n",
    "count(list)"
   ]
  },
  {
   "cell_type": "markdown",
   "id": "112d85c3-b148-4f69-8342-96627f7464bb",
   "metadata": {},
   "source": [
    "5. Write a Python program to find the second largest number in a list."
   ]
  },
  {
   "cell_type": "code",
   "execution_count": 11,
   "id": "78d881d5-533c-4ec0-94aa-48815089bfe9",
   "metadata": {},
   "outputs": [
    {
     "name": "stdin",
     "output_type": "stream",
     "text": [
      " 5\n",
      " 97\n",
      " 37\n",
      " 5\n",
      " 74\n",
      " 96\n"
     ]
    },
    {
     "data": {
      "text/plain": [
       "96"
      ]
     },
     "execution_count": 11,
     "metadata": {},
     "output_type": "execute_result"
    }
   ],
   "source": [
    "import numpy as np\n",
    "def sec_lar(list):\n",
    "    mx = max(list[0],list[1])\n",
    "    secmx=min(list[0],list[1])\n",
    "    for i in list:\n",
    "        if(i>mx):\n",
    "            secmx=mx\n",
    "            mx=i\n",
    "        elif(i>secmx and i!=mx):\n",
    "            secmx=i\n",
    "        elif(mx==secmx and secmx!=i):\n",
    "            secmx=i\n",
    "    return secmx\n",
    "n=int(input())\n",
    "list=[]\n",
    "for i in range(0,n):\n",
    "    l=int(input())\n",
    "    list.append(l)\n",
    "sec_lar(list)"
   ]
  },
  {
   "cell_type": "markdown",
   "id": "1b852e01-2243-4e93-a80b-a98e7f0ff379",
   "metadata": {},
   "source": [
    "6. Implement a function to remove duplicate elements from a list."
   ]
  },
  {
   "cell_type": "code",
   "execution_count": 2,
   "id": "ae46d9b0-db9c-49ea-a222-432261c6cd56",
   "metadata": {},
   "outputs": [
    {
     "name": "stdin",
     "output_type": "stream",
     "text": [
      " 10\n",
      " 2\n",
      " 3\n",
      " 5\n",
      " 4\n",
      " 32\n",
      " 2\n",
      " 3\n",
      " 5\n",
      " 4\n",
      " 3\n"
     ]
    },
    {
     "data": {
      "text/plain": [
       "[2, 3, 5, 4, 32]"
      ]
     },
     "execution_count": 2,
     "metadata": {},
     "output_type": "execute_result"
    }
   ],
   "source": [
    "def remove_duplicate(list):\n",
    "    list1=[]\n",
    "    for i in list:\n",
    "        if i not in list1:\n",
    "            list1.append(i)\n",
    "    return list1\n",
    "list=[]\n",
    "n=int(input())\n",
    "for i in range(0,n):\n",
    "    l=int(input())\n",
    "    list.append(l)\n",
    "remove_duplicate(list)"
   ]
  },
  {
   "cell_type": "markdown",
   "id": "41b4692c-d93b-4eef-817a-4de090eae15d",
   "metadata": {},
   "source": [
    "7. Write a program to calculate the factorial of a given number."
   ]
  },
  {
   "cell_type": "code",
   "execution_count": 3,
   "id": "8882ae04-1299-41d7-804f-96a7995fa318",
   "metadata": {},
   "outputs": [
    {
     "name": "stdin",
     "output_type": "stream",
     "text": [
      " 6\n"
     ]
    },
    {
     "data": {
      "text/plain": [
       "720"
      ]
     },
     "execution_count": 3,
     "metadata": {},
     "output_type": "execute_result"
    }
   ],
   "source": [
    "def fact(n):\n",
    "    ans=1\n",
    "    for i in range(1,n+1):\n",
    "        ans*=i\n",
    "    return ans\n",
    "n=int(input())\n",
    "fact(n)"
   ]
  },
  {
   "cell_type": "markdown",
   "id": "e23828b0-dd84-4a49-b089-1663e8ed18ed",
   "metadata": {},
   "source": [
    "8. Implement a function to check if a given number is prime."
   ]
  },
  {
   "cell_type": "code",
   "execution_count": 4,
   "id": "7ed5dd6e-bce5-4bdd-bc34-d5f4118374de",
   "metadata": {},
   "outputs": [
    {
     "name": "stdin",
     "output_type": "stream",
     "text": [
      " 23\n"
     ]
    },
    {
     "data": {
      "text/plain": [
       "True"
      ]
     },
     "execution_count": 4,
     "metadata": {},
     "output_type": "execute_result"
    }
   ],
   "source": [
    "import numpy as np\n",
    "def isprime(n):\n",
    "    for i in range(2,int(np.sqrt(n))+1):\n",
    "        if(n%i==0):\n",
    "            return False\n",
    "    return True\n",
    "n=int(input())\n",
    "isprime(n)"
   ]
  },
  {
   "cell_type": "markdown",
   "id": "43c8fbcf-6984-4a7c-a351-7720ea3df0ae",
   "metadata": {},
   "source": [
    "9. Write a Python program to sort a list of integers in ascending order."
   ]
  },
  {
   "cell_type": "code",
   "execution_count": 5,
   "id": "3385dac9-319a-4331-be02-99c7b2982706",
   "metadata": {},
   "outputs": [
    {
     "name": "stdin",
     "output_type": "stream",
     "text": [
      " 7\n",
      " 83\n",
      " 93\n",
      " 37\n",
      " 28\n",
      " 74\n",
      " 78\n",
      " 72\n"
     ]
    },
    {
     "name": "stdout",
     "output_type": "stream",
     "text": [
      "[28, 37, 72, 74, 78, 83, 93]\n"
     ]
    }
   ],
   "source": [
    "def sorting(list):\n",
    "    n=len(list)\n",
    "    for i in range (0,n):\n",
    "        for j in range(i + 1, n):\n",
    "            if(list[i] > list[j]):\n",
    "                temp = list[i]\n",
    "                list[i] = list[j]\n",
    "                list[j] = temp\n",
    "    return list\n",
    "n=int(input())\n",
    "list=[]\n",
    "for i in range(0,n):\n",
    "    l=int(input())\n",
    "    list.append(l)\n",
    "print(sorting(list))"
   ]
  },
  {
   "cell_type": "markdown",
   "id": "7939837e-543c-4a6e-9aeb-d06d8748c019",
   "metadata": {},
   "source": [
    "10. Implement a function to find the sum of all numbers in a list."
   ]
  },
  {
   "cell_type": "code",
   "execution_count": 6,
   "id": "9d758e5c-c80a-4b9d-a4d3-4596052e05b8",
   "metadata": {},
   "outputs": [
    {
     "name": "stdin",
     "output_type": "stream",
     "text": [
      " 10\n",
      " 1\n",
      " 2\n",
      " 3\n",
      " 4\n",
      " 5\n",
      " 6\n",
      " 7\n",
      " 8\n",
      " 9\n",
      " 10\n"
     ]
    },
    {
     "name": "stdout",
     "output_type": "stream",
     "text": [
      "55\n"
     ]
    }
   ],
   "source": [
    "def list_sum(list):\n",
    "    ans=0\n",
    "    for i in list:\n",
    "        ans+=i\n",
    "    return ans\n",
    "\n",
    "n=int(input())\n",
    "list=[]\n",
    "for i in range(0,n):\n",
    "    l=int(input())\n",
    "    list.append(l)\n",
    "print(list_sum(list))"
   ]
  },
  {
   "cell_type": "markdown",
   "id": "a9f6b422-adc5-4057-9a6e-922fd3c9c64e",
   "metadata": {},
   "source": [
    "11. Write a program to find the common elements between two lists."
   ]
  },
  {
   "cell_type": "code",
   "execution_count": 8,
   "id": "3c308856-750a-4927-901c-e0b4d4a43bbc",
   "metadata": {},
   "outputs": [
    {
     "name": "stdin",
     "output_type": "stream",
     "text": [
      " 5\n",
      " 5\n",
      " 1\n",
      " 2\n",
      " 3\n",
      " 4\n",
      " 5\n",
      " 2\n",
      " 4\n",
      " 5\n",
      " 7\n",
      " 8\n"
     ]
    },
    {
     "name": "stdout",
     "output_type": "stream",
     "text": [
      "[2, 4, 5]\n"
     ]
    }
   ],
   "source": [
    "def common_ele(list1,list2):\n",
    "    ans=[]\n",
    "    for i in list1:\n",
    "        if i in list2:\n",
    "            ans.append(i)\n",
    "    return ans\n",
    "\n",
    "n=int(input())\n",
    "m=int(input())\n",
    "list1=[]\n",
    "for i in range(0,n):\n",
    "    l=int(input())\n",
    "    list1.append(l)\n",
    "list2=[]\n",
    "for i in range(0,m):\n",
    "    l=int(input())\n",
    "    list2.append(l)\n",
    "print(common_ele(list1,list2))"
   ]
  },
  {
   "cell_type": "markdown",
   "id": "6e59e656-d39c-4025-9507-bf90dcbb7c6e",
   "metadata": {},
   "source": [
    "12. Implement a function to check if a given string is an anagram of another string."
   ]
  },
  {
   "cell_type": "code",
   "execution_count": 9,
   "id": "9cabcd8d-60e4-4984-9f4a-45b35afebf74",
   "metadata": {},
   "outputs": [
    {
     "name": "stdin",
     "output_type": "stream",
     "text": [
      " gram\n",
      " marg\n"
     ]
    },
    {
     "name": "stdout",
     "output_type": "stream",
     "text": [
      "True\n"
     ]
    }
   ],
   "source": [
    "def anagram(str1,str2):\n",
    "    s1=sorted(str1)\n",
    "    s2=sorted(str2)\n",
    "    if(s1==s2):\n",
    "        return True\n",
    "    return False\n",
    "\n",
    "str1=input()\n",
    "str2=input()\n",
    "print(anagram(str1,str2))"
   ]
  },
  {
   "cell_type": "markdown",
   "id": "54cf0f4c-e0bd-4cca-9282-75bc32326164",
   "metadata": {},
   "source": [
    "13. Write a Python program to generate all permutations of a given string."
   ]
  },
  {
   "cell_type": "code",
   "execution_count": 10,
   "id": "6eccfc4a-c336-4974-85f9-e319d9598aab",
   "metadata": {},
   "outputs": [
    {
     "name": "stdout",
     "output_type": "stream",
     "text": [
      "['abc', 'acb', 'bac', 'bca', 'cab', 'cba']\n"
     ]
    }
   ],
   "source": [
    "def find_permutations(s):\n",
    "    if len(s) == 1:\n",
    "        return [s]\n",
    "    else:\n",
    "        perms = []\n",
    "        for i, c in enumerate(s):\n",
    "            for perm in find_permutations(s[:i] + s[i+1:]):\n",
    "                perms.append(c + perm)\n",
    "        return perms\n",
    "\n",
    "s = 'abc'\n",
    "print(find_permutations(s))"
   ]
  },
  {
   "cell_type": "markdown",
   "id": "ccbe4663-03f2-43cb-91b7-ff65f2b0bf14",
   "metadata": {},
   "source": [
    "14. Implement a function to calculate the Fibonacci sequence up to a given number of terms."
   ]
  },
  {
   "cell_type": "code",
   "execution_count": 1,
   "id": "3402132d-6b97-42eb-9704-d6881b4753f8",
   "metadata": {},
   "outputs": [
    {
     "name": "stdin",
     "output_type": "stream",
     "text": [
      " 9\n"
     ]
    },
    {
     "name": "stdout",
     "output_type": "stream",
     "text": [
      "[0, 1, 1, 2, 3, 5, 8, 13, 21]\n"
     ]
    }
   ],
   "source": [
    "def fibonacci(n):\n",
    "    a=0\n",
    "    b=1\n",
    "    list=[]\n",
    "    if n == 0:\n",
    "        return list.append(a)\n",
    "    elif n == 1:\n",
    "        list.append(a)\n",
    "        list.append(b)\n",
    "        return list\n",
    "    else:\n",
    "        list.append(a)\n",
    "        list.append(b)\n",
    "        for i in range(2, n):\n",
    "            c = a + b\n",
    "            a = b\n",
    "            b = c\n",
    "            list.append(c)\n",
    "    return list\n",
    "\n",
    "n=int(input())\n",
    "print(fibonacci(n))"
   ]
  },
  {
   "cell_type": "markdown",
   "id": "8ba6540f-12e5-41bc-8e48-1f98fc6e6915",
   "metadata": {},
   "source": [
    "15. Write a program to find the median of a list of numbers."
   ]
  },
  {
   "cell_type": "code",
   "execution_count": 1,
   "id": "24568898-7340-4a53-9f3e-024eae46fbfa",
   "metadata": {},
   "outputs": [
    {
     "name": "stdin",
     "output_type": "stream",
     "text": [
      " 7\n",
      " 1\n",
      " 2\n",
      " 3\n",
      " 4\n",
      " 5\n",
      " 6\n",
      " 7\n"
     ]
    },
    {
     "name": "stdout",
     "output_type": "stream",
     "text": [
      "4\n"
     ]
    }
   ],
   "source": [
    "def median(list):\n",
    "    sorted(list)\n",
    "    n=len(list)\n",
    "    median=-1\n",
    "    if(n%2==0):\n",
    "        median=(list[int(n/2)]+list[int(n/2)-1])/2\n",
    "    else:\n",
    "        median=list[int(n/2)]\n",
    "    return median\n",
    "\n",
    "\n",
    "n=int(input())\n",
    "list=[]\n",
    "for i in range(0,n):\n",
    "    l=int(input())\n",
    "    list.append(l)\n",
    "print(median(list))"
   ]
  },
  {
   "cell_type": "markdown",
   "id": "0ab96649-3cb1-41f2-86ea-47adee1e4971",
   "metadata": {},
   "source": [
    "16. Implement a function to check if a given list is sorted in non-decreasing order."
   ]
  },
  {
   "cell_type": "code",
   "execution_count": 2,
   "id": "162c7999-e729-4475-94fa-db43e9b0c651",
   "metadata": {},
   "outputs": [
    {
     "name": "stdin",
     "output_type": "stream",
     "text": [
      " 5\n",
      " 1\n",
      " 2\n",
      " 3\n",
      " 4\n",
      " 5\n"
     ]
    },
    {
     "name": "stdout",
     "output_type": "stream",
     "text": [
      "True\n"
     ]
    }
   ],
   "source": [
    "def sort(list):\n",
    "    n=len(list)\n",
    "    for i in range(1,n):\n",
    "        if(list[i]<list[i-1]):\n",
    "            return False\n",
    "    return True\n",
    "\n",
    "n=int(input())\n",
    "list=[]\n",
    "for i in range(0,n):\n",
    "    l=int(input())\n",
    "    list.append(l)\n",
    "print(sort(list))"
   ]
  },
  {
   "cell_type": "markdown",
   "id": "fe5a0750-e8e5-424d-a67e-c9550754b3d2",
   "metadata": {},
   "source": [
    "17. Write a Python program to find the intersection of two lists."
   ]
  },
  {
   "cell_type": "code",
   "execution_count": 4,
   "id": "57151475-e4a0-4cef-a41c-50ce72653f4e",
   "metadata": {},
   "outputs": [
    {
     "name": "stdin",
     "output_type": "stream",
     "text": [
      " 5\n",
      " 7\n",
      " 2\n",
      " 4\n",
      " 6\n",
      " 8\n",
      " 9\n",
      " 1\n",
      " 2\n",
      " 3\n",
      " 4\n",
      " 5\n",
      " 6\n",
      " 7\n"
     ]
    },
    {
     "name": "stdout",
     "output_type": "stream",
     "text": [
      "[2, 4, 6, 8, 9]\n",
      "[1, 2, 3, 4, 5, 6, 7]\n",
      "[2, 4, 6]\n"
     ]
    }
   ],
   "source": [
    "def common_ele(list1,list2):\n",
    "    ans=[]\n",
    "    for i in list1:\n",
    "        if i in list2:\n",
    "            ans.append(i)\n",
    "    return ans\n",
    "\n",
    "n=int(input())\n",
    "m=int(input())\n",
    "list1=[]\n",
    "for i in range(0,n):\n",
    "    l=int(input())\n",
    "    list1.append(l)\n",
    "list2=[]\n",
    "for i in range(0,m):\n",
    "    l=int(input())\n",
    "    list2.append(l)\n",
    "print(list1)\n",
    "print(list2)\n",
    "print(common_ele(list1,list2))"
   ]
  },
  {
   "cell_type": "markdown",
   "id": "96f3bf66-4160-41b7-8275-929855f320a7",
   "metadata": {},
   "source": [
    "18. Implement a function to find the maximum subarray sum in a given list."
   ]
  },
  {
   "cell_type": "code",
   "execution_count": 5,
   "id": "bc47f34b-2ebf-43ee-ac57-957dc6355ab1",
   "metadata": {},
   "outputs": [
    {
     "name": "stdin",
     "output_type": "stream",
     "text": [
      " 8\n",
      " 1\n",
      " 2\n",
      " 3\n",
      " -7\n",
      " 4\n",
      " 6\n",
      " 8\n",
      " -10\n"
     ]
    },
    {
     "name": "stdout",
     "output_type": "stream",
     "text": [
      "18\n"
     ]
    }
   ],
   "source": [
    "def mx_sbarr_sm(list):\n",
    "    n=len(list)\n",
    "    mxsum=0\n",
    "    cursum=0\n",
    "    for i in range(0,n):\n",
    "        for j in range(i,n):\n",
    "            cursum+=list[j]\n",
    "            if(mxsum<cursum):\n",
    "                mxsum=cursum\n",
    "        cursum=0\n",
    "    return mxsum\n",
    "\n",
    "n=int(input())\n",
    "list=[]\n",
    "for i in range(0,n):\n",
    "    l=int(input())\n",
    "    list.append(l)\n",
    "print(mx_sbarr_sm(list))"
   ]
  },
  {
   "cell_type": "markdown",
   "id": "54a1f792-85da-483d-821e-625724ec7b60",
   "metadata": {},
   "source": [
    "19. Write a program to remove all vowels from a given string."
   ]
  },
  {
   "cell_type": "code",
   "execution_count": 6,
   "id": "c466cb00-dac7-42ed-aa6f-cb597b372741",
   "metadata": {},
   "outputs": [
    {
     "name": "stdin",
     "output_type": "stream",
     "text": [
      " manoj kumar is a humorous guy\n"
     ]
    },
    {
     "name": "stdout",
     "output_type": "stream",
     "text": [
      "mnj kmr s  hmrs gy\n"
     ]
    }
   ],
   "source": [
    "import re\n",
    "def remove(str):\n",
    "    k=re.sub(\"[aeiouAEIOU]\",\"\",str)\n",
    "    return k\n",
    "\n",
    "str=input()\n",
    "print(remove(str))"
   ]
  },
  {
   "cell_type": "markdown",
   "id": "1ddd22a4-8be6-4dd3-b1a7-072ef741c6ae",
   "metadata": {},
   "source": [
    "20. Implement a function to reverse the order of words in a given sentence."
   ]
  },
  {
   "cell_type": "code",
   "execution_count": 7,
   "id": "d4e9d4b8-ab5c-41ef-824b-918189aee288",
   "metadata": {},
   "outputs": [
    {
     "name": "stdin",
     "output_type": "stream",
     "text": [
      " i love pw skills ppt program\n"
     ]
    },
    {
     "name": "stdout",
     "output_type": "stream",
     "text": [
      "program ppt skills pw love i\n"
     ]
    }
   ],
   "source": [
    "def remove(str):\n",
    "    k=str.split(' ')\n",
    "    rev=reversed(k)\n",
    "    s=' '.join(rev)\n",
    "    return s\n",
    "\n",
    "str=input()\n",
    "print(remove(str))"
   ]
  },
  {
   "cell_type": "markdown",
   "id": "d0f39b21-ea0f-4dfc-aa47-8ba81f925a3e",
   "metadata": {},
   "source": [
    "21. Write a Python program to check if two strings are anagrams of each other."
   ]
  },
  {
   "cell_type": "code",
   "execution_count": 9,
   "id": "b9477c00-b6e0-42d0-b2c1-d205f89bcaa2",
   "metadata": {},
   "outputs": [
    {
     "name": "stdin",
     "output_type": "stream",
     "text": [
      " racecar\n",
      " carrace\n"
     ]
    },
    {
     "name": "stdout",
     "output_type": "stream",
     "text": [
      "True\n"
     ]
    }
   ],
   "source": [
    "def anagram(str1,str2):\n",
    "    s1=sorted(str1)\n",
    "    s2=sorted(str2)\n",
    "    if(s1==s2):\n",
    "        return True\n",
    "    return False\n",
    "\n",
    "str1=input()\n",
    "str2=input()\n",
    "print(anagram(str1,str2))"
   ]
  },
  {
   "cell_type": "markdown",
   "id": "6d5c109d-e78a-4439-a082-0312d11e539d",
   "metadata": {},
   "source": [
    "22. Implement a function to find the first non-repeating character in a string."
   ]
  },
  {
   "cell_type": "code",
   "execution_count": 10,
   "id": "c370a4cc-167c-4eda-b50e-ce7e24f7c0a3",
   "metadata": {},
   "outputs": [
    {
     "name": "stdin",
     "output_type": "stream",
     "text": [
      " amjsoenruamjs\n"
     ]
    },
    {
     "name": "stdout",
     "output_type": "stream",
     "text": [
      "o\n"
     ]
    }
   ],
   "source": [
    "def non_repeat(str):\n",
    "    for i in str:\n",
    "        if str.count(i) == 1:\n",
    "            return i\n",
    "    return -1\n",
    "str=input()\n",
    "print(non_repeat(str))"
   ]
  },
  {
   "cell_type": "markdown",
   "id": "ed3a9753-08ec-4bd2-9b61-a6667c382a37",
   "metadata": {},
   "source": [
    "23. Write a program to find the prime factors of a given number."
   ]
  },
  {
   "cell_type": "code",
   "execution_count": 23,
   "id": "05f0bfe8-0967-497a-bbad-8e81fbdde2e9",
   "metadata": {},
   "outputs": [
    {
     "name": "stdin",
     "output_type": "stream",
     "text": [
      " 4620\n"
     ]
    },
    {
     "name": "stdout",
     "output_type": "stream",
     "text": [
      "2\n",
      "2\n",
      "3\n",
      "5\n",
      "7\n",
      "11\n"
     ]
    }
   ],
   "source": [
    "import math\n",
    "def prime_fact(n):\n",
    "    while n % 2 == 0:\n",
    "        print(2),\n",
    "        n = n / 2\n",
    "    for i in range(3,int(math.sqrt(n))+1,2):\n",
    "        while n % i== 0:\n",
    "            print(i),\n",
    "            n = int(n / i)\n",
    "    if n > 2:\n",
    "        print (n)\n",
    "n=int(input())\n",
    "prime_fact(n)"
   ]
  },
  {
   "cell_type": "markdown",
   "id": "aafb3a0f-d637-43ad-8c97-d2839183d21e",
   "metadata": {},
   "source": [
    "24. Implement a function to check if a given number is a power of two."
   ]
  },
  {
   "cell_type": "code",
   "execution_count": 28,
   "id": "0cb8a928-8c38-4793-8c46-e7ae58e641e7",
   "metadata": {},
   "outputs": [
    {
     "name": "stdin",
     "output_type": "stream",
     "text": [
      " 98\n"
     ]
    },
    {
     "name": "stdout",
     "output_type": "stream",
     "text": [
      "False\n"
     ]
    }
   ],
   "source": [
    "def isPowerOfTwo(n):\n",
    "    if (n == 0):\n",
    "        return False\n",
    "    while (n != 1):\n",
    "        if (n % 2 != 0):\n",
    "            return False\n",
    "        n = n // 2\n",
    "    return True\n",
    "\n",
    "n=int(input())\n",
    "print(isPowerOfTwo(n))"
   ]
  },
  {
   "cell_type": "markdown",
   "id": "3e752bec-5376-4652-ba78-bc9120fc2328",
   "metadata": {},
   "source": [
    "25. Write a Python program to merge two sorted lists into a single sorted list"
   ]
  },
  {
   "cell_type": "code",
   "execution_count": 34,
   "id": "de7cdd35-0382-44a4-bc87-15bf3fd5ffb2",
   "metadata": {},
   "outputs": [
    {
     "name": "stdin",
     "output_type": "stream",
     "text": [
      " 3\n",
      " 4\n",
      " 1\n",
      " 2\n",
      " 3\n",
      " 5\n",
      " 6\n",
      " 7\n",
      " 8\n"
     ]
    },
    {
     "name": "stdout",
     "output_type": "stream",
     "text": [
      "[1, 2, 3]\n",
      "[5, 6, 7, 8]\n",
      "[1, 2, 3, 5, 6, 7, 8]\n"
     ]
    }
   ],
   "source": [
    "def mergelist(list1,list2):\n",
    "    size_1 = len(list1)\n",
    "    size_2 = len(list2)\n",
    "    res = []\n",
    "    i, j = 0, 0\n",
    "    while i < size_1 and j < size_2:\n",
    "        if list1[i] < list2[j]:\n",
    "            res.append(list1[i])\n",
    "            i += 1\n",
    "        else:\n",
    "                res.append(list2[j])\n",
    "                j += 1\n",
    "    res = res + list1[i:] + list2[j:]\n",
    "    return res\n",
    "m=int(input())\n",
    "n=int(input())\n",
    "list1=[]\n",
    "for i in range(0,m):\n",
    "    l=int(input())\n",
    "    list1.append(l)\n",
    "list2=[]\n",
    "for i in range(0,n):\n",
    "    l=int(input())\n",
    "    list2.append(l)\n",
    "print(list1)\n",
    "print(list2)\n",
    "print(mergelist(list1,list2))"
   ]
  },
  {
   "cell_type": "markdown",
   "id": "f9473a3c-bf81-4d0c-a1af-26dba4632793",
   "metadata": {},
   "source": [
    "26. Implement a function to find the mode of a list of numbers."
   ]
  },
  {
   "cell_type": "code",
   "execution_count": 4,
   "id": "6a90ae91-7af7-4293-95c8-80ea0dafbec8",
   "metadata": {},
   "outputs": [
    {
     "name": "stdin",
     "output_type": "stream",
     "text": [
      " 7\n",
      " 1\n",
      " 2\n",
      " 3\n",
      " 2\n",
      " 4\n",
      " 3\n",
      " 2\n"
     ]
    },
    {
     "name": "stdout",
     "output_type": "stream",
     "text": [
      "2\n"
     ]
    }
   ],
   "source": [
    "def mode(list):\n",
    "    n=len(list)\n",
    "    max_element = max(list)\n",
    "    t = max_element + 1\n",
    "    count = [0] * t\n",
    "    for i in range(t) :\n",
    "        count[i] = 0\n",
    "    for i in range(n) :\n",
    "        count[list[i]] += 1\n",
    "    mode = 0\n",
    "    k = count[0]\n",
    "    for i in range(1, t) :\n",
    "        if (count[i] > k) :\n",
    "            k = count[i]\n",
    "            mode = i\n",
    "    return mode\n",
    "\n",
    "n=int(input())\n",
    "list=[]\n",
    "for i in range(0,n):\n",
    "    l=int(input())\n",
    "    list.append(l)\n",
    "print(mode(list))"
   ]
  },
  {
   "cell_type": "markdown",
   "id": "617aa333-12b5-47db-872c-49777808784e",
   "metadata": {},
   "source": [
    "27. Write a program to find the greatest common divisor (GCD) of two numbers."
   ]
  },
  {
   "cell_type": "code",
   "execution_count": 7,
   "id": "93aeb667-39e5-45fb-9485-0d75a4b5cd27",
   "metadata": {},
   "outputs": [
    {
     "name": "stdin",
     "output_type": "stream",
     "text": [
      " 55\n",
      " 80\n"
     ]
    },
    {
     "name": "stdout",
     "output_type": "stream",
     "text": [
      "5\n"
     ]
    }
   ],
   "source": [
    "def gcd(a, b):\n",
    "    result = min(a, b)\n",
    "    while result:\n",
    "        if a % result == 0 and b % result == 0:\n",
    "            break\n",
    "        result -= 1\n",
    "    return result\n",
    "\n",
    "n=int(input())\n",
    "m=int(input())\n",
    "print(gcd(n,m))"
   ]
  },
  {
   "cell_type": "markdown",
   "id": "6fcf9bec-892d-4198-a1cb-a3c5db5ef8bc",
   "metadata": {},
   "source": [
    "28. Implement a function to calculate the square root of a given number."
   ]
  },
  {
   "cell_type": "code",
   "execution_count": 12,
   "id": "73b8d00f-717a-478d-af3b-6a1410a25af1",
   "metadata": {},
   "outputs": [
    {
     "name": "stdin",
     "output_type": "stream",
     "text": [
      " 289\n"
     ]
    },
    {
     "name": "stdout",
     "output_type": "stream",
     "text": [
      "17\n"
     ]
    }
   ],
   "source": [
    "def sqrt(x):\n",
    "    if (x == 0 or x == 1):\n",
    "        return x\n",
    "    i = 1\n",
    "    result = 1\n",
    "    while (result <= x):\n",
    "        i += 1\n",
    "        result = i * i\n",
    "    return i - 1\n",
    "\n",
    "\n",
    "n=int(input())\n",
    "print(sqrt(n))"
   ]
  },
  {
   "cell_type": "markdown",
   "id": "0c0ddc64-e452-40e4-819b-ce51b6c77e26",
   "metadata": {},
   "source": [
    "29. Write a Python program to check if a given string is a valid palindrome ignoring non-alphanumeric characters."
   ]
  },
  {
   "cell_type": "code",
   "execution_count": 2,
   "id": "d09f3741-22e3-4a89-9e47-680ce9af4d99",
   "metadata": {},
   "outputs": [
    {
     "name": "stdin",
     "output_type": "stream",
     "text": [
      " naman\n"
     ]
    },
    {
     "name": "stdout",
     "output_type": "stream",
     "text": [
      "True\n"
     ]
    }
   ],
   "source": [
    "def isPalindrome(s):\n",
    "    k = s[::-1]\n",
    "    if(k==s):\n",
    "        return True\n",
    "    else:\n",
    "        return False\n",
    "str=input()\n",
    "print (isPalindrome(str))"
   ]
  },
  {
   "cell_type": "markdown",
   "id": "f5c34286-db9b-492c-8fe0-c6c8c2082560",
   "metadata": {},
   "source": [
    "30. Implement a function to find the minimum element in a rotated sorted list."
   ]
  },
  {
   "cell_type": "code",
   "execution_count": 11,
   "id": "e123bac6-169b-40eb-a644-376eb9db023f",
   "metadata": {},
   "outputs": [
    {
     "name": "stdin",
     "output_type": "stream",
     "text": [
      " 6\n",
      " 7\n",
      " 8\n",
      " 9\n",
      " 1\n",
      " 2\n",
      " 3\n",
      " 3\n",
      " 2\n"
     ]
    },
    {
     "name": "stdout",
     "output_type": "stream",
     "text": [
      "1\n"
     ]
    }
   ],
   "source": [
    "def findMin(arr, high, low):\n",
    "    if high < low:\n",
    "        return arr[0]\n",
    "    if high == low:\n",
    "        return arr[low]\n",
    "    mid = int((low + high)/2)\n",
    "    if mid < high and arr[mid+1] < arr[mid]:\n",
    "        return arr[mid+1]\n",
    "    if arr[high] > arr[mid]:\n",
    "        return findMin(arr, low, mid-1)\n",
    "    return findMin(arr, mid+1, high)\n",
    "\n",
    "\n",
    "n=int(input())\n",
    "arr=[]\n",
    "for i in range(0,n):\n",
    "    l=int(input())\n",
    "    arr.append(l)\n",
    "low=int(input())\n",
    "high=int(input())\n",
    "print(findMin(arr,low,high))"
   ]
  },
  {
   "cell_type": "markdown",
   "id": "e5998a3d-4d19-447c-b022-c2b6ab44fee1",
   "metadata": {},
   "source": [
    "31. Write a program to find the sum of all even numbers in a list."
   ]
  },
  {
   "cell_type": "code",
   "execution_count": 12,
   "id": "ef89d1d8-3c83-4996-9e3a-1c4134b04249",
   "metadata": {},
   "outputs": [
    {
     "name": "stdin",
     "output_type": "stream",
     "text": [
      " 9\n",
      " 1\n",
      " 2\n",
      " 3\n",
      " 4\n",
      " 5\n",
      " 6\n",
      " 7\n",
      " 8\n",
      " 9\n"
     ]
    },
    {
     "name": "stdout",
     "output_type": "stream",
     "text": [
      "20\n"
     ]
    }
   ],
   "source": [
    "def even_sum(list):\n",
    "    sum=0\n",
    "    for i in list:\n",
    "        if(i%2==0):\n",
    "            sum+=i\n",
    "    return sum\n",
    "\n",
    "n=int(input())\n",
    "list=[]\n",
    "for i in range(0,n):\n",
    "    l=int(input())\n",
    "    list.append(l)\n",
    "print(even_sum(list))"
   ]
  },
  {
   "cell_type": "markdown",
   "id": "826cb5ef-2e2d-4ac8-a510-c9fd92a165c0",
   "metadata": {},
   "source": [
    "32. Implement a function to calculate the power of a number using recursion."
   ]
  },
  {
   "cell_type": "code",
   "execution_count": 15,
   "id": "152f5b18-0b79-4627-9d28-11969b4d45e9",
   "metadata": {},
   "outputs": [
    {
     "name": "stdin",
     "output_type": "stream",
     "text": [
      " 2\n",
      " 8\n"
     ]
    },
    {
     "name": "stdout",
     "output_type": "stream",
     "text": [
      "256\n"
     ]
    }
   ],
   "source": [
    "def power(n,p):\n",
    "    if(p==1):\n",
    "        return n\n",
    "    return n*power(n,p-1)\n",
    "\n",
    "n=int(input())\n",
    "p=int(input())\n",
    "print(power(n,p))"
   ]
  },
  {
   "cell_type": "markdown",
   "id": "94473a5e-6c63-463a-86c7-6b1914e44e9b",
   "metadata": {},
   "source": [
    "33. Write a Python program to remove duplicates from a list while preserving the order."
   ]
  },
  {
   "cell_type": "code",
   "execution_count": 19,
   "id": "6a663728-603e-4fd9-a17c-313e062081a6",
   "metadata": {},
   "outputs": [
    {
     "name": "stdin",
     "output_type": "stream",
     "text": [
      " 9\n",
      " 1\n",
      " 2\n",
      " 3\n",
      " 1\n",
      " 4\n",
      " 2\n",
      " 5\n",
      " 6\n",
      " 3\n"
     ]
    },
    {
     "name": "stdout",
     "output_type": "stream",
     "text": [
      "[1, 2, 3, 4, 5, 6]\n"
     ]
    }
   ],
   "source": [
    "def remove_duplicate(list):\n",
    "    list1=[]\n",
    "    for i in list:\n",
    "        if i not in list1:\n",
    "            list1.append(i)\n",
    "    return list1\n",
    "\n",
    "n=int(input())\n",
    "list=[]\n",
    "for i in range(0,n):\n",
    "    l=int(input())\n",
    "    list.append(l)\n",
    "print(remove_duplicate(list))\n"
   ]
  },
  {
   "cell_type": "markdown",
   "id": "d24d31ec-c4ac-4a3a-9d35-4faac7b7410e",
   "metadata": {},
   "source": [
    "34. Implement a function to find the longest common prefix among a list of strings."
   ]
  },
  {
   "cell_type": "code",
   "execution_count": 24,
   "id": "89e34c5f-0c53-4e60-b3e1-f9208fb3b9d3",
   "metadata": {},
   "outputs": [
    {
     "name": "stdin",
     "output_type": "stream",
     "text": [
      " 4\n",
      " abhay\n",
      " abhishek\n",
      " abhinav\n",
      " abhijeet\n"
     ]
    },
    {
     "name": "stdout",
     "output_type": "stream",
     "text": [
      "abh\n"
     ]
    }
   ],
   "source": [
    "def longestCommonPrefix(a): \n",
    "    size = len(a)\n",
    "    if (size == 0):\n",
    "        return \"\"\n",
    "    if (size == 1):\n",
    "        return a[0]\n",
    "    a.sort()\n",
    "    end = min(len(a[0]), len(a[size - 1]))\n",
    "    i = 0\n",
    "    while (i < end and\n",
    "           a[0][i] == a[size - 1][i]):\n",
    "        i += 1\n",
    " \n",
    "    pre = a[0][0: i]\n",
    "    return pre\n",
    "\n",
    "n=int(input())\n",
    "list=[]\n",
    "for i in range(0,n):\n",
    "    str=input()\n",
    "    list.append(str)\n",
    "print(longestCommonPrefix(list))"
   ]
  },
  {
   "cell_type": "markdown",
   "id": "c3e25641-3b25-43f3-a434-847c5068cdb7",
   "metadata": {},
   "source": [
    "35. Write a program to check if a given number is a perfect square."
   ]
  },
  {
   "cell_type": "code",
   "execution_count": 28,
   "id": "c2e3dcaf-ab56-40f8-9314-cd0c5e685935",
   "metadata": {},
   "outputs": [
    {
     "name": "stdin",
     "output_type": "stream",
     "text": [
      " 36\n"
     ]
    },
    {
     "name": "stdout",
     "output_type": "stream",
     "text": [
      "True\n"
     ]
    }
   ],
   "source": [
    "import math\n",
    "def isPerfectSquare(x):\n",
    "    if(x >= 0):\n",
    "        sr = int(math.sqrt(x))\n",
    "        return ((sr*sr) == x)\n",
    "    return false\n",
    "\n",
    "n=int(input())\n",
    "print(isPerfectSquare(n))"
   ]
  },
  {
   "cell_type": "markdown",
   "id": "bd1acaa6-3c0d-435a-94b5-db8cd5d39764",
   "metadata": {},
   "source": [
    "36. Implement a function to calculate the product of all elements in a list."
   ]
  },
  {
   "cell_type": "code",
   "execution_count": 29,
   "id": "acdcdc8c-ffd6-474c-b8cb-a3289b626984",
   "metadata": {},
   "outputs": [
    {
     "name": "stdin",
     "output_type": "stream",
     "text": [
      " 5\n",
      " 2\n",
      " 5\n",
      " 3\n",
      " 6\n",
      " 4\n"
     ]
    },
    {
     "name": "stdout",
     "output_type": "stream",
     "text": [
      "720\n"
     ]
    }
   ],
   "source": [
    "def product(list):\n",
    "    ans=1\n",
    "    for i in list:\n",
    "        ans*=i\n",
    "    return ans\n",
    "\n",
    "n=int(input())\n",
    "list=[]\n",
    "for i in range(0,n):\n",
    "    l=int(input())\n",
    "    list.append(l)\n",
    "print(product(list))"
   ]
  },
  {
   "cell_type": "markdown",
   "id": "e8f47c8a-72da-4270-95af-a084f4125779",
   "metadata": {},
   "source": [
    "37. Write a Python program to reverse the order of words in a sentence while preserving the word order."
   ]
  },
  {
   "cell_type": "code",
   "execution_count": 30,
   "id": "622dac18-9db1-4fc1-90bc-33a36a48445f",
   "metadata": {},
   "outputs": [
    {
     "name": "stdin",
     "output_type": "stream",
     "text": [
      " i want to become a data scientist\n"
     ]
    },
    {
     "name": "stdout",
     "output_type": "stream",
     "text": [
      "scientist data a become to want i\n"
     ]
    }
   ],
   "source": [
    "def remove(str):\n",
    "    k=str.split(' ')\n",
    "    rev=reversed(k)\n",
    "    s=' '.join(rev)\n",
    "    return s\n",
    "\n",
    "str=input()\n",
    "print(remove(str))"
   ]
  },
  {
   "cell_type": "markdown",
   "id": "c04dfbca-a859-4640-ab64-af09d13f57ad",
   "metadata": {},
   "source": [
    "38. Implement a function to find the missing number in a given list of consecutive numbers."
   ]
  },
  {
   "cell_type": "code",
   "execution_count": 31,
   "id": "312afc6e-2011-40d8-9ec7-71ff0bc3c0a4",
   "metadata": {},
   "outputs": [
    {
     "name": "stdin",
     "output_type": "stream",
     "text": [
      " 7\n",
      " 2\n",
      " 3\n",
      " 4\n",
      " 6\n",
      " 7\n",
      " 8\n",
      " 9\n"
     ]
    },
    {
     "name": "stdout",
     "output_type": "stream",
     "text": [
      "5\n"
     ]
    }
   ],
   "source": [
    "def missing(list):\n",
    "    n=len(list)\n",
    "    list.sort()\n",
    "    ans=-1\n",
    "    for i in range(0,n-1):\n",
    "        if(list[i+1]-list[i]!=1):\n",
    "            ans=list[i]+1\n",
    "    return ans\n",
    "\n",
    "n=int(input())\n",
    "list=[]\n",
    "for i in range(0,n):\n",
    "    l=int(input())\n",
    "    list.append(l)\n",
    "print(missing(list))\n"
   ]
  },
  {
   "cell_type": "markdown",
   "id": "0151ed82-01f6-40ad-be5c-6e21734e8f44",
   "metadata": {},
   "source": [
    "39. Write a program to find the sum of digits of a given number."
   ]
  },
  {
   "cell_type": "code",
   "execution_count": 5,
   "id": "52a42cda-eac2-4852-a9d5-99c667ded1b4",
   "metadata": {},
   "outputs": [
    {
     "name": "stdin",
     "output_type": "stream",
     "text": [
      " 34567\n"
     ]
    },
    {
     "name": "stdout",
     "output_type": "stream",
     "text": [
      "25\n"
     ]
    }
   ],
   "source": [
    "def digit_sum(n):\n",
    "    sum=0\n",
    "    while(n>9):\n",
    "        k=n%10\n",
    "        sum+=k\n",
    "        n=n//10\n",
    "    return sum+n\n",
    "\n",
    "n=int(input())\n",
    "print(digit_sum(n))"
   ]
  },
  {
   "cell_type": "markdown",
   "id": "d0645bc8-b99e-48e7-859f-8a6f1941fe6c",
   "metadata": {},
   "source": [
    "40. Implement a function to check if a given string is a valid palindrome considering case sensitivity."
   ]
  },
  {
   "cell_type": "code",
   "execution_count": 9,
   "id": "714ea747-1585-45d1-98a4-2d9823c89cc6",
   "metadata": {},
   "outputs": [
    {
     "name": "stdin",
     "output_type": "stream",
     "text": [
      " RaCeCaR\n"
     ]
    },
    {
     "name": "stdout",
     "output_type": "stream",
     "text": [
      "True\n"
     ]
    }
   ],
   "source": [
    "def isPalindrome(s):\n",
    "    k = s[::-1]\n",
    "    if(k==s):\n",
    "        return True\n",
    "    else:\n",
    "        return False\n",
    "str=input()\n",
    "print (isPalindrome(str))"
   ]
  },
  {
   "cell_type": "markdown",
   "id": "46a190bf-7cb8-43b5-869d-29faabcf0b40",
   "metadata": {},
   "source": [
    "41. Write a Python program to find the smallest missing positive integer in a list."
   ]
  },
  {
   "cell_type": "code",
   "execution_count": 10,
   "id": "6a3a4e0b-fd6c-43f3-b053-d17121006638",
   "metadata": {},
   "outputs": [
    {
     "name": "stdin",
     "output_type": "stream",
     "text": [
      " 5\n",
      " -5\n",
      " -1\n",
      " 1\n",
      " 4\n",
      " 3\n"
     ]
    },
    {
     "name": "stdout",
     "output_type": "stream",
     "text": [
      "2\n"
     ]
    }
   ],
   "source": [
    "def getMEX(a):\n",
    "    found = False\n",
    "    n = len(a)\n",
    "    for i in range(1, n + 2):\n",
    "        found = False\n",
    "        for j in range(n):\n",
    "            if a[j] == i:\n",
    "                found = True\n",
    "                break\n",
    "        if found == False:\n",
    "            return i\n",
    "\n",
    "n=int(input())\n",
    "list=[]\n",
    "for i in range(0,n):\n",
    "    l=int(input())\n",
    "    list.append(l)\n",
    "print(getMEX(list))"
   ]
  },
  {
   "cell_type": "markdown",
   "id": "f243c7ed-7ffc-4ab8-8a25-2ed9c32a2376",
   "metadata": {},
   "source": [
    "42. Implement a function to find the longest palindrome substring in a given string."
   ]
  },
  {
   "cell_type": "code",
   "execution_count": 20,
   "id": "d70f30bd-823c-4734-9866-5fd63fcdd1cf",
   "metadata": {},
   "outputs": [
    {
     "name": "stdin",
     "output_type": "stream",
     "text": [
      " carracecar\n"
     ]
    },
    {
     "name": "stdout",
     "output_type": "stream",
     "text": [
      "racecar \n",
      "7\n"
     ]
    }
   ],
   "source": [
    "def printSubStr(str, low, high):\n",
    "    for i in range(low, high + 1):\n",
    "        print(str[i], end=\"\")\n",
    "    print(\" \")\n",
    "def longestPalSubstr(str):\n",
    "    n = len(str)\n",
    "    maxLength = 1\n",
    "    start = 0\n",
    "    for i in range(n):\n",
    "        for j in range(i, n):\n",
    "            flag = 1\n",
    "            for k in range(0, ((j - i) // 2) + 1):\n",
    "                if (str[i + k] != str[j - k]):\n",
    "                    flag = 0\n",
    "            if (flag != 0 and (j - i + 1) > maxLength):\n",
    "                start = i\n",
    "                maxLength = j - i + 1\n",
    "    printSubStr(str, start, start + maxLength - 1)\n",
    "    return maxLength\n",
    "\n",
    "str=input()\n",
    "print(longestPalSubstr(str))"
   ]
  },
  {
   "cell_type": "markdown",
   "id": "72719d86-2026-4d65-b6da-bb745ac60b6f",
   "metadata": {},
   "source": [
    "43. Write a program to find the number of occurrences of a given element in a list."
   ]
  },
  {
   "cell_type": "code",
   "execution_count": 1,
   "id": "95506b69-13bf-4b36-a3a2-fcebea3ef583",
   "metadata": {},
   "outputs": [
    {
     "name": "stdin",
     "output_type": "stream",
     "text": [
      " 7\n",
      " 8\n",
      " 7\n",
      " 6\n",
      " 8\n",
      " 5\n",
      " 6\n",
      " 7\n",
      " 5\n"
     ]
    },
    {
     "name": "stdout",
     "output_type": "stream",
     "text": [
      "1\n"
     ]
    }
   ],
   "source": [
    "def countX(lst, x):\n",
    "    return lst.count(x)\n",
    "\n",
    "\n",
    "n=int(input())\n",
    "list=[]\n",
    "for i in range(0,n):\n",
    "    l=int(input())\n",
    "    list.append(l)\n",
    "k=int(input())\n",
    "print(countX(list,k))"
   ]
  },
  {
   "cell_type": "markdown",
   "id": "9f53107a-4606-4b91-ba15-eeb94485bb23",
   "metadata": {},
   "source": [
    "44. Implement a function to check if a given number is a perfect number."
   ]
  },
  {
   "cell_type": "code",
   "execution_count": 3,
   "id": "cec07829-058c-4890-9b12-18bef59e1e53",
   "metadata": {},
   "outputs": [
    {
     "name": "stdin",
     "output_type": "stream",
     "text": [
      " 6\n"
     ]
    },
    {
     "name": "stdout",
     "output_type": "stream",
     "text": [
      "True\n"
     ]
    }
   ],
   "source": [
    "def isPerfect( n ):\n",
    "    sum = 1\n",
    "    i = 2\n",
    "    while i * i <= n:\n",
    "        if n % i == 0:\n",
    "            sum = sum + i + n/i\n",
    "        i += 1\n",
    "    return (True if sum == n and n!=1 else False)\n",
    "\n",
    "s=int(input())\n",
    "print(isPerfect(s))"
   ]
  },
  {
   "cell_type": "markdown",
   "id": "8dad7dca-8b9c-4652-ac60-6bffdb2b66ae",
   "metadata": {},
   "source": [
    "45. Write a Python program to remove all duplicates from a string."
   ]
  },
  {
   "cell_type": "code",
   "execution_count": 5,
   "id": "4a5bb6ed-2051-4921-8e20-eb17da9e3c89",
   "metadata": {},
   "outputs": [
    {
     "name": "stdin",
     "output_type": "stream",
     "text": [
      " ramesh is going to the market\n"
     ]
    },
    {
     "name": "stdout",
     "output_type": "stream",
     "text": [
      "srkhtiemgo an\n"
     ]
    }
   ],
   "source": [
    "def removeDuplicate(str):\n",
    "    s=set(str)\n",
    "    s=\"\".join(s)\n",
    "    return s\n",
    "\n",
    "str=input()\n",
    "print(removeDuplicate(str))\n"
   ]
  },
  {
   "cell_type": "markdown",
   "id": "fe84b00f-ceb5-41e1-8be9-c24b1f3af5cc",
   "metadata": {},
   "source": [
    "46. Implement a function to find the first missing positive"
   ]
  },
  {
   "cell_type": "code",
   "execution_count": 6,
   "id": "fb374f96-0fdc-4b6a-99ef-b754f0a2e691",
   "metadata": {},
   "outputs": [
    {
     "name": "stdin",
     "output_type": "stream",
     "text": [
      " 7\n",
      " -2\n",
      " 1\n",
      " 5\n",
      " 4\n",
      " 6\n",
      " 9\n",
      " -5\n"
     ]
    },
    {
     "name": "stdout",
     "output_type": "stream",
     "text": [
      "2\n"
     ]
    }
   ],
   "source": [
    "def solution(A):\n",
    "    m = max(A)\n",
    "    if m < 1:\n",
    "        return 1\n",
    "    if len(A) == 1:\n",
    "        return 2 if A[0] == 1 else 1\n",
    "    l = [0] * m\n",
    "    for i in range(len(A)):\n",
    "        if A[i] > 0:\n",
    "            if l[A[i] - 1] != 1:\n",
    "                l[A[i] - 1] = 1\n",
    "    for i in range(len(l)):\n",
    "        if l[i] == 0:\n",
    "            return i + 1\n",
    "    return i + 2\n",
    "\n",
    "\n",
    "n=int(input())\n",
    "list=[]\n",
    "for i in range(0,n):\n",
    "    l=int(input())\n",
    "    list.append(l)\n",
    "print(solution(list))"
   ]
  },
  {
   "cell_type": "code",
   "execution_count": null,
   "id": "114029ab-e3a4-4baf-909d-714297808c5f",
   "metadata": {},
   "outputs": [],
   "source": []
  }
 ],
 "metadata": {
  "kernelspec": {
   "display_name": "Python 3 (ipykernel)",
   "language": "python",
   "name": "python3"
  },
  "language_info": {
   "codemirror_mode": {
    "name": "ipython",
    "version": 3
   },
   "file_extension": ".py",
   "mimetype": "text/x-python",
   "name": "python",
   "nbconvert_exporter": "python",
   "pygments_lexer": "ipython3",
   "version": "3.10.8"
  }
 },
 "nbformat": 4,
 "nbformat_minor": 5
}
